{
 "cells": [
  {
   "cell_type": "markdown",
   "metadata": {},
   "source": [
    "Web Scraping from Instagram to download all image you want to search for using Selenium "
   ]
  },
  {
   "cell_type": "code",
   "execution_count": 1,
   "metadata": {},
   "outputs": [],
   "source": [
    "#import libraries\n",
    "from selenium import webdriver\n",
    "import csv\n",
    "from selenium.webdriver.common.by import By\n",
    "from selenium.webdriver.common.keys import Keys\n",
    "from selenium.webdriver.support import expected_conditions as EC\n",
    "from selenium.webdriver.support.wait import WebDriverWait\n",
    "from webdriver_manager.chrome import ChromeDriverManager\n",
    "from selenium.webdriver.chrome.service import Service as ChromeService\n",
    "import time\n",
    "import os\n",
    "import requests"
   ]
  },
  {
   "cell_type": "code",
   "execution_count": 140,
   "metadata": {},
   "outputs": [
    {
     "name": "stdout",
     "output_type": "stream",
     "text": [
      "Collecting wget\n",
      "  Downloading wget-3.2.zip (10 kB)\n",
      "  Preparing metadata (setup.py): started\n",
      "  Preparing metadata (setup.py): finished with status 'done'\n",
      "Building wheels for collected packages: wget\n",
      "  Building wheel for wget (setup.py): started\n",
      "  Building wheel for wget (setup.py): finished with status 'done'\n",
      "  Created wheel for wget: filename=wget-3.2-py3-none-any.whl size=9680 sha256=7d8e63053677c44bc155abce13634875c06aeb96ce69b708114289b3d1f687ce\n",
      "  Stored in directory: c:\\users\\ahmed\\appdata\\local\\pip\\cache\\wheels\\46\\78\\0e\\8e5e2b500f83a682c8d7e7ce820638cf99faa894a662f71cf0\n",
      "Successfully built wget\n",
      "Installing collected packages: wget\n",
      "Successfully installed wget-3.2\n"
     ]
    }
   ],
   "source": [
    "! pip install wget"
   ]
  },
  {
   "cell_type": "code",
   "execution_count": 141,
   "metadata": {},
   "outputs": [],
   "source": [
    "import wget"
   ]
  },
  {
   "cell_type": "code",
   "execution_count": 228,
   "metadata": {},
   "outputs": [],
   "source": [
    "import os\n",
    "os.chdir(r'E:\\Epsilon\\code2\\instagram')"
   ]
  },
  {
   "cell_type": "code",
   "execution_count": 229,
   "metadata": {},
   "outputs": [],
   "source": [
    "#open the chrome webdriver\n",
    "driver = webdriver.Chrome(service=ChromeService(ChromeDriverManager().install())) \n",
    "driver.implicitly_wait(5)"
   ]
  },
  {
   "cell_type": "code",
   "execution_count": 230,
   "metadata": {},
   "outputs": [],
   "source": [
    "#target the site \n",
    "driver.get(\"https://www.instagram.com\")"
   ]
  },
  {
   "cell_type": "code",
   "execution_count": 231,
   "metadata": {},
   "outputs": [],
   "source": [
    "##target the username and password \n",
    "username= WebDriverWait(driver,5).until(EC.element_to_be_clickable((By.CSS_SELECTOR,\"input[name='username']\")))\n",
    "password= WebDriverWait(driver,5).until(EC.element_to_be_clickable((By.CSS_SELECTOR,\"input[name='password']\")))"
   ]
  },
  {
   "cell_type": "code",
   "execution_count": 232,
   "metadata": {},
   "outputs": [],
   "source": [
    "# enter the username and password\n",
    "username.clear()\n",
    "username.send_keys(\"qena33@yahoo.com\")\n",
    "password.clear()\n",
    "password.send_keys(\"A@cat123\")"
   ]
  },
  {
   "cell_type": "code",
   "execution_count": 233,
   "metadata": {},
   "outputs": [],
   "source": [
    "#click the button to enter your username in the site\n",
    "button= WebDriverWait(driver,2).until(EC.element_to_be_clickable((By.CSS_SELECTOR,\"button[type='submit']\"))).click()"
   ]
  },
  {
   "cell_type": "code",
   "execution_count": null,
   "metadata": {},
   "outputs": [],
   "source": [
    "# ignore the not now button\n",
    "time.sleep(5)\n",
    "not_now1= WebDriverWait(driver,10).until(EC.element_to_be_clickable((By.CLASS_NAME,\"x1i10hfl\"))).click()\n",
    "not_now2= WebDriverWait(driver,10).until(EC.element_to_be_clickable((By.XPATH,\"//button[@class='_a9-- _ap36 _a9_1' and text()='Not Now']\"))).click()"
   ]
  },
  {
   "cell_type": "code",
   "execution_count": 119,
   "metadata": {},
   "outputs": [],
   "source": [
    "#click the search button to activate it\n",
    "Search_box= WebDriverWait(driver,10).until(EC.element_to_be_clickable((By.XPATH ,'(//span[contains(@class, \"x4k7w5x\")]/div/a[contains(@class, \"x1i10hfl\")])[3]'))).click()"
   ]
  },
  {
   "cell_type": "code",
   "execution_count": 120,
   "metadata": {},
   "outputs": [],
   "source": [
    "#target the search area\n",
    "search= WebDriverWait(driver,10).until(EC.element_to_be_clickable((By.XPATH ,'//input[@placeholder=\"Search\"]')))\n",
    "search.clear()"
   ]
  },
  {
   "cell_type": "code",
   "execution_count": 122,
   "metadata": {},
   "outputs": [],
   "source": [
    "#enter your search word\n",
    "search_word=\"#tree\"\n",
    "search.send_keys(search_word)"
   ]
  },
  {
   "cell_type": "code",
   "execution_count": 123,
   "metadata": {},
   "outputs": [],
   "source": [
    "#target the first element in the search resulte\n",
    "time.sleep(5)\n",
    "first_search= WebDriverWait(driver,10).until(EC.element_to_be_clickable((By.XPATH ,'//a[contains(@class, \"x1i10hfl\") and contains(@class, \"x1qjc9v5\") and contains(@class, \"xjbqb8w\") and contains(@class, \"xjqpnuy\") and contains(@class, \"xa49m3k\") and contains(@class, \"xqeqjp1\") and contains(@class, \"x2hbi6w\") and contains(@class, \"x13fuv20\") and contains(@class, \"xu3j5b3\") and contains(@class, \"x1q0q8m5\") and contains(@class, \"x26u7qi\") and contains(@class, \"x972fbf\") and contains(@class, \"xcfux6l\") and contains(@class, \"x1qhh985\") and contains(@class, \"xm0m39n\") and contains(@class, \"x9f619\") and contains(@class, \"x1ypdohk\") and contains(@class, \"xdl72j9\") and contains(@class, \"x2lah0s\") and contains(@class, \"xe8uvvx\") and contains(@class, \"xdj266r\") and contains(@class, \"x11i5rnm\") and contains(@class, \"xat24cr\") and contains(@class, \"x1mh8g0r\") and contains(@class, \"x2lwn1j\") and contains(@class, \"xeuugli\") and contains(@class, \"xexx8yu\") and contains(@class, \"x4uap5\") and contains(@class, \"x18d9i69\") and contains(@class, \"xkhd6sd\") and contains(@class, \"x1n2onr6\") and contains(@class, \"x16tdsg8\") and contains(@class, \"x1hl2dhg\") and contains(@class, \"xggy1nq\") and contains(@class, \"x1ja2u2z\") and contains(@class, \"x1t137rt\") and contains(@class, \"x1q0g3np\") and contains(@class, \"x87ps6o\") and contains(@class, \"x1lku1pv\") and contains(@class, \"x1a2a7pz\") and contains(@class, \"x1dm5mii\") and contains(@class, \"x16mil14\") and contains(@class, \"xiojian\") and contains(@class, \"x1yutycm\") and contains(@class, \"x1lliihq\") and contains(@class, \"x193iq5w\") and contains(@class, \"xh8yej3\")]'))).click()"
   ]
  },
  {
   "cell_type": "code",
   "execution_count": 126,
   "metadata": {},
   "outputs": [],
   "source": [
    "##click the search button again to remove it\n",
    "time.sleep(5)\n",
    "Search_box= WebDriverWait(driver,10).until(EC.element_to_be_clickable((By.XPATH ,'(//span[contains(@class, \"x4k7w5x\")]/div/a[contains(@class, \"x1i10hfl\")])[3]'))).click()"
   ]
  },
  {
   "cell_type": "code",
   "execution_count": null,
   "metadata": {},
   "outputs": [],
   "source": [
    "#scroll the page dowen to get all images\n",
    "driver.execute_script(\"window.scrollTo(0,document.body.scrollHeigh);\")\n",
    "time.sleep(4)"
   ]
  },
  {
   "cell_type": "code",
   "execution_count": 222,
   "metadata": {},
   "outputs": [],
   "source": [
    "\n",
    "img_elements = driver.find_elements(\"tag name\", \"img\")"
   ]
  },
  {
   "cell_type": "code",
   "execution_count": 223,
   "metadata": {},
   "outputs": [
    {
     "data": {
      "text/plain": [
       "32"
      ]
     },
     "execution_count": 223,
     "metadata": {},
     "output_type": "execute_result"
    }
   ],
   "source": [
    "len(img_elements)"
   ]
  },
  {
   "cell_type": "code",
   "execution_count": 224,
   "metadata": {},
   "outputs": [],
   "source": [
    "path=os.getcwd()\n",
    "path=os.path.join(path, search_word[1:] + \"s\")"
   ]
  },
  {
   "cell_type": "code",
   "execution_count": null,
   "metadata": {},
   "outputs": [],
   "source": [
    "os.mkdir(path)\n",
    "path"
   ]
  },
  {
   "cell_type": "code",
   "execution_count": null,
   "metadata": {},
   "outputs": [],
   "source": [
    "counter = 0\n",
    "for img_element in img_elements:\n",
    "    # Check if the img_element has a src attribute\n",
    "    image_url = img_element.get_attribute(\"src\")\n",
    "    if image_url:\n",
    "        save_as = os.path.join(path, search_word[1:] + str(counter) + '.jpg')\n",
    "        response = requests.get(image_url, stream=True)\n",
    "\n",
    "        # Check if the request was successful\n",
    "        if response.status_code == 200:\n",
    "            with open(save_as, 'wb') as f:\n",
    "                for chunk in response.iter_content(chunk_size=8192):\n",
    "                    f.write(chunk)\n",
    "            counter += 1"
   ]
  }
 ],
 "metadata": {
  "kernelspec": {
   "display_name": "base",
   "language": "python",
   "name": "python3"
  },
  "language_info": {
   "codemirror_mode": {
    "name": "ipython",
    "version": 3
   },
   "file_extension": ".py",
   "mimetype": "text/x-python",
   "name": "python",
   "nbconvert_exporter": "python",
   "pygments_lexer": "ipython3",
   "version": "3.10.9"
  }
 },
 "nbformat": 4,
 "nbformat_minor": 2
}
